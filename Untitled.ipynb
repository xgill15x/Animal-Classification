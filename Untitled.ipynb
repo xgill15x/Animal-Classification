{
 "cells": [
  {
   "cell_type": "code",
   "execution_count": 1,
   "id": "ee1cb8cc-b9fa-44ef-9611-1c3dbeb1b6cd",
   "metadata": {},
   "outputs": [],
   "source": [
    "from translate import translate\n",
    "import os\n",
    "\n",
    "import matplotlib.pyplot as plt\n",
    "import numpy as np\n",
    "import cv2"
   ]
  },
  {
   "cell_type": "code",
   "execution_count": null,
   "id": "340b57c2-41f5-4d4c-ac2b-532cde0c40db",
   "metadata": {},
   "outputs": [],
   "source": [
    "# Directory path\n",
    "directory_path = \"raw-img\"\n",
    "\n",
    "# Function to rename folders\n",
    "def rename_folders(directory_path, translation_dict):\n",
    "    for folder_name in os.listdir(directory_path):\n",
    "        original_path = os.path.join(directory_path, folder_name)\n",
    "        \n",
    "        # Check if the folder name needs translation\n",
    "        if folder_name in translation_dict:\n",
    "            new_folder_name = translation_dict[folder_name]\n",
    "            new_path = os.path.join(directory_path, new_folder_name)\n",
    "            \n",
    "            # Rename the folder\n",
    "            os.rename(original_path, new_path)\n",
    "            print(f\"Renamed: {folder_name} -> {new_folder_name}\")\n",
    "            \n",
    "# Call the function\n",
    "rename_folders(directory_path, translate)"
   ]
  },
  {
   "cell_type": "code",
   "execution_count": null,
   "id": "3d78fb3c-9a13-400c-ac23-a35fed266961",
   "metadata": {},
   "outputs": [],
   "source": []
  }
 ],
 "metadata": {
  "kernelspec": {
   "display_name": "Python 3 (ipykernel)",
   "language": "python",
   "name": "python3"
  },
  "language_info": {
   "codemirror_mode": {
    "name": "ipython",
    "version": 3
   },
   "file_extension": ".py",
   "mimetype": "text/x-python",
   "name": "python",
   "nbconvert_exporter": "python",
   "pygments_lexer": "ipython3",
   "version": "3.10.3"
  }
 },
 "nbformat": 4,
 "nbformat_minor": 5
}
