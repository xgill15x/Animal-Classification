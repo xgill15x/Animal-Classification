{
 "cells": [
  {
   "cell_type": "code",
   "execution_count": 1,
   "id": "ee1cb8cc-b9fa-44ef-9611-1c3dbeb1b6cd",
   "metadata": {},
   "outputs": [],
   "source": [
    "import os\n",
    "\n",
    "import matplotlib.pyplot as plt\n",
    "import numpy as np\n",
    "import cv2\n",
    "import random\n",
    "\n",
    "import tensorflow as tf\n",
    "from tensorflow.keras.models import Sequential\n",
    "from tensorflow.keras.layers import Dense, Flatten, Conv2D, MaxPooling2D"
   ]
  },
  {
   "cell_type": "code",
   "execution_count": 2,
   "id": "340b57c2-41f5-4d4c-ac2b-532cde0c40db",
   "metadata": {},
   "outputs": [],
   "source": [
    "dataset_loc = 'dataset'\n",
    "IMG_SIZE = 250"
   ]
  },
  {
   "cell_type": "code",
   "execution_count": 3,
   "id": "3d78fb3c-9a13-400c-ac23-a35fed266961",
   "metadata": {},
   "outputs": [],
   "source": [
    "categories = ['glioma_tumor', 'meningioma_tumor', 'no_tumor', 'pituitary_tumor']"
   ]
  },
  {
   "cell_type": "code",
   "execution_count": 4,
   "id": "4cbdf389-3d41-4c82-a436-59e5a199112a",
   "metadata": {},
   "outputs": [],
   "source": [
    "training_data = []\n",
    "training_path = os.path.join(dataset_loc, 'Training') \n",
    "\n",
    "for category in categories:\n",
    "    cancer_path = os.path.join(training_path, category)\n",
    "    category_idx = categories.index(category)\n",
    "    for img_file in os.listdir(cancer_path):\n",
    "        try:\n",
    "            img_array = cv2.imread(os.path.join(cancer_path, img_file), cv2.IMREAD_GRAYSCALE) # convert image to gray scale\n",
    "            img_array = cv2.resize(img_array, (IMG_SIZE, IMG_SIZE)) # all images same size\n",
    "            img_array = tf.keras.utils.normalize(img_array)\n",
    "\n",
    "            training_data.append([img_array, category_idx])\n",
    "        except:\n",
    "            pass"
   ]
  },
  {
   "cell_type": "code",
   "execution_count": 5,
   "id": "0945eafa-9e4b-4a74-a1ee-528e4bb116f6",
   "metadata": {},
   "outputs": [],
   "source": [
    "validation_data = []\n",
    "validation_path = os.path.join(dataset_loc, 'Testing') \n",
    "\n",
    "for category in categories:\n",
    "    cancer_path = os.path.join(validation_path, category)\n",
    "    category_idx = categories.index(category)\n",
    "    for img_file in os.listdir(cancer_path):\n",
    "        try:\n",
    "            img_array = cv2.imread(os.path.join(cancer_path, img_file), cv2.IMREAD_GRAYSCALE) # convert image to gray scale\n",
    "            img_array = cv2.resize(img_array, (IMG_SIZE, IMG_SIZE)) # all images same size\n",
    "            img_array = tf.keras.utils.normalize(img_array)\n",
    "            \n",
    "            validation_data.append([img_array, category_idx])\n",
    "        except:\n",
    "            pass"
   ]
  },
  {
   "cell_type": "code",
   "execution_count": 6,
   "id": "7ea3d407-1aa4-4a76-bb4f-61ed29eac8cd",
   "metadata": {},
   "outputs": [],
   "source": [
    "random.shuffle(training_data)\n",
    "random.shuffle(validation_data)"
   ]
  },
  {
   "cell_type": "code",
   "execution_count": 7,
   "id": "8057c096-c2ee-4934-aa2c-297e980c8b54",
   "metadata": {},
   "outputs": [],
   "source": [
    "X_train = [pair[0] for pair in training_data]\n",
    "y_train = [pair[1] for pair in training_data]\n",
    "\n",
    "X_validation = [pair[0] for pair in validation_data]\n",
    "y_validation = [pair[1] for pair in validation_data]"
   ]
  },
  {
   "cell_type": "code",
   "execution_count": 8,
   "id": "75a447bc-76d6-4371-8a33-8a9307f35347",
   "metadata": {},
   "outputs": [],
   "source": [
    "X_train = np.array(X_train) # training and validation sets must be converted to np_arrays for cnn model\n",
    "y_train = np.array(y_train)\n",
    "\n",
    "X_validation = np.array(X_validation)\n",
    "y_validation = np.array(y_validation)"
   ]
  },
  {
   "cell_type": "code",
   "execution_count": 9,
   "id": "313a3420-12c3-4b0a-bda2-e34b966df906",
   "metadata": {},
   "outputs": [
    {
     "name": "stderr",
     "output_type": "stream",
     "text": [
      "2023-12-20 20:53:51.257737: I tensorflow/core/platform/cpu_feature_guard.cc:151] This TensorFlow binary is optimized with oneAPI Deep Neural Network Library (oneDNN) to use the following CPU instructions in performance-critical operations:  AVX2 FMA\n",
      "To enable them in other operations, rebuild TensorFlow with the appropriate compiler flags.\n"
     ]
    }
   ],
   "source": [
    "# Create Keras model\n",
    "model = Sequential()\n",
    "\n",
    "model.add(Flatten()) # Dense layers require 1D array (np.reshape may also be used)\n",
    "model.add(Dense(units=128, activation='relu'))\n",
    "model.add(Dense(units=128, activation='relu')) # relu is a good one to fall back on \n",
    "model.add(Dense(units=4, activation='softmax')) # softmax used for probability distribution\n",
    "\n",
    "# model.add(Conv2D(filters=32,kernel_size=(3,3), activation='relu', input_shape=(IMG_SIZE, IMG_SIZE, 1)))\n",
    "# model.add(MaxPooling2D(pool_size=(2, 2)))\n",
    "\n",
    "# model.add(Flatten()) # Dense layers require 1D array (np.reshape may also be used)\n",
    "# model.add(Dense(256,activation='relu'))\n",
    "# model.add(Dense(4,activation='softmax'))\n",
    "\n",
    "model.compile(optimizer='adam', \n",
    "              loss='sparse_categorical_crossentropy', \n",
    "              metrics=['accuracy']) # If your labels are ints representing class: Use sparse_categorical_crossentropy."
   ]
  },
  {
   "cell_type": "code",
   "execution_count": 10,
   "id": "344164bf-c9a2-43ce-864e-37bd6a3df646",
   "metadata": {},
   "outputs": [
    {
     "name": "stdout",
     "output_type": "stream",
     "text": [
      "Epoch 1/25\n",
      "90/90 [==============================] - 3s 23ms/step - loss: 1.1175 - accuracy: 0.5561\n",
      "Epoch 2/25\n",
      "90/90 [==============================] - 2s 21ms/step - loss: 0.6153 - accuracy: 0.7554\n",
      "Epoch 3/25\n",
      "90/90 [==============================] - 2s 22ms/step - loss: 0.4478 - accuracy: 0.8244\n",
      "Epoch 4/25\n",
      "90/90 [==============================] - 2s 21ms/step - loss: 0.3712 - accuracy: 0.8488\n",
      "Epoch 5/25\n",
      "90/90 [==============================] - 2s 20ms/step - loss: 0.2631 - accuracy: 0.9007\n",
      "Epoch 6/25\n",
      "90/90 [==============================] - 2s 20ms/step - loss: 0.2097 - accuracy: 0.9244\n",
      "Epoch 7/25\n",
      "90/90 [==============================] - 2s 20ms/step - loss: 0.2029 - accuracy: 0.9216\n",
      "Epoch 8/25\n",
      "90/90 [==============================] - 2s 20ms/step - loss: 0.1897 - accuracy: 0.9321\n",
      "Epoch 9/25\n",
      "90/90 [==============================] - 2s 20ms/step - loss: 0.1464 - accuracy: 0.9460\n",
      "Epoch 10/25\n",
      "90/90 [==============================] - 2s 21ms/step - loss: 0.1384 - accuracy: 0.9495\n",
      "Epoch 11/25\n",
      "90/90 [==============================] - 2s 20ms/step - loss: 0.1121 - accuracy: 0.9568\n",
      "Epoch 12/25\n",
      "90/90 [==============================] - 2s 20ms/step - loss: 0.0635 - accuracy: 0.9791\n",
      "Epoch 13/25\n",
      "90/90 [==============================] - 2s 20ms/step - loss: 0.0412 - accuracy: 0.9878\n",
      "Epoch 14/25\n",
      "90/90 [==============================] - 2s 21ms/step - loss: 0.0881 - accuracy: 0.9662\n",
      "Epoch 15/25\n",
      "90/90 [==============================] - 2s 20ms/step - loss: 0.2241 - accuracy: 0.9213\n",
      "Epoch 16/25\n",
      "90/90 [==============================] - 2s 20ms/step - loss: 0.0345 - accuracy: 0.9899\n",
      "Epoch 17/25\n",
      "90/90 [==============================] - 2s 21ms/step - loss: 0.0210 - accuracy: 0.9944\n",
      "Epoch 18/25\n",
      "90/90 [==============================] - 2s 21ms/step - loss: 0.0152 - accuracy: 0.9962\n",
      "Epoch 19/25\n",
      "90/90 [==============================] - 2s 21ms/step - loss: 0.0121 - accuracy: 0.9976\n",
      "Epoch 20/25\n",
      "90/90 [==============================] - 2s 21ms/step - loss: 0.0137 - accuracy: 0.9962\n",
      "Epoch 21/25\n",
      "90/90 [==============================] - 2s 21ms/step - loss: 0.0272 - accuracy: 0.9892\n",
      "Epoch 22/25\n",
      "90/90 [==============================] - 2s 21ms/step - loss: 0.0097 - accuracy: 0.9986\n",
      "Epoch 23/25\n",
      "90/90 [==============================] - 2s 21ms/step - loss: 0.0024 - accuracy: 1.0000\n",
      "Epoch 24/25\n",
      "90/90 [==============================] - 2s 21ms/step - loss: 0.0020 - accuracy: 1.0000\n",
      "Epoch 25/25\n",
      "90/90 [==============================] - 2s 21ms/step - loss: 0.0014 - accuracy: 1.0000\n"
     ]
    },
    {
     "data": {
      "text/plain": [
       "<keras.callbacks.History at 0x13a382fb0>"
      ]
     },
     "execution_count": 10,
     "metadata": {},
     "output_type": "execute_result"
    }
   ],
   "source": [
    "model.fit(X_train, y_train, epochs=25)"
   ]
  },
  {
   "cell_type": "code",
   "execution_count": 11,
   "id": "bb730406-8463-4f2d-920a-7eab5a57f1ed",
   "metadata": {},
   "outputs": [
    {
     "name": "stdout",
     "output_type": "stream",
     "text": [
      "13/13 [==============================] - 0s 13ms/step - loss: 4.3495 - accuracy: 0.7386\n"
     ]
    }
   ],
   "source": [
    "validation_loss, validation_acc = model.evaluate(X_validation, y_validation)"
   ]
  },
  {
   "cell_type": "code",
   "execution_count": null,
   "id": "ff82587a-11b2-4b3a-838f-9a15567de9d4",
   "metadata": {},
   "outputs": [],
   "source": []
  },
  {
   "cell_type": "code",
   "execution_count": null,
   "id": "dd2c9ad2-3304-45a5-a6cd-82bc9a1b1713",
   "metadata": {},
   "outputs": [],
   "source": []
  }
 ],
 "metadata": {
  "kernelspec": {
   "display_name": "Python 3 (ipykernel)",
   "language": "python",
   "name": "python3"
  },
  "language_info": {
   "codemirror_mode": {
    "name": "ipython",
    "version": 3
   },
   "file_extension": ".py",
   "mimetype": "text/x-python",
   "name": "python",
   "nbconvert_exporter": "python",
   "pygments_lexer": "ipython3",
   "version": "3.10.3"
  }
 },
 "nbformat": 4,
 "nbformat_minor": 5
}
